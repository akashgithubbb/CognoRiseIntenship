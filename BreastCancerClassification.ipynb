{
  "nbformat": 4,
  "nbformat_minor": 0,
  "metadata": {
    "colab": {
      "provenance": [],
      "authorship_tag": "ABX9TyN/p3H7HpTU8ubT9yKEeR2G",
      "include_colab_link": true
    },
    "kernelspec": {
      "name": "python3",
      "display_name": "Python 3"
    },
    "language_info": {
      "name": "python"
    }
  },
  "cells": [
    {
      "cell_type": "markdown",
      "metadata": {
        "id": "view-in-github",
        "colab_type": "text"
      },
      "source": [
        "<a href=\"https://colab.research.google.com/github/akashgithubbb/CognoRiseIntenship/blob/main/BreastCancerClassification.ipynb\" target=\"_parent\"><img src=\"https://colab.research.google.com/assets/colab-badge.svg\" alt=\"Open In Colab\"/></a>"
      ]
    },
    {
      "cell_type": "code",
      "execution_count": 1,
      "metadata": {
        "colab": {
          "base_uri": "https://localhost:8080/"
        },
        "id": "RWCEPOgkyaj4",
        "outputId": "1881a3c7-9040-46ef-cef7-28c1c720edea"
      },
      "outputs": [
        {
          "output_type": "stream",
          "name": "stdout",
          "text": [
            "K-Nearest Neighbors Accuracy: 0.956140350877193\n",
            "Random Forest Accuracy: 0.9649122807017544\n",
            "Logistic Regression Accuracy: 0.9736842105263158\n",
            "Decision Tree Accuracy: 0.9385964912280702\n",
            "\n",
            "Classification Report - K-Nearest Neighbors:\n",
            "               precision    recall  f1-score   support\n",
            "\n",
            "           B       0.96      0.97      0.97        71\n",
            "           M       0.95      0.93      0.94        43\n",
            "\n",
            "    accuracy                           0.96       114\n",
            "   macro avg       0.96      0.95      0.95       114\n",
            "weighted avg       0.96      0.96      0.96       114\n",
            "\n",
            "Classification Report - Random Forest:\n",
            "               precision    recall  f1-score   support\n",
            "\n",
            "           B       0.96      0.99      0.97        71\n",
            "           M       0.98      0.93      0.95        43\n",
            "\n",
            "    accuracy                           0.96       114\n",
            "   macro avg       0.97      0.96      0.96       114\n",
            "weighted avg       0.97      0.96      0.96       114\n",
            "\n",
            "Classification Report - Logistic Regression:\n",
            "               precision    recall  f1-score   support\n",
            "\n",
            "           B       0.97      0.99      0.98        71\n",
            "           M       0.98      0.95      0.96        43\n",
            "\n",
            "    accuracy                           0.97       114\n",
            "   macro avg       0.97      0.97      0.97       114\n",
            "weighted avg       0.97      0.97      0.97       114\n",
            "\n",
            "Classification Report - Decision Tree:\n",
            "               precision    recall  f1-score   support\n",
            "\n",
            "           B       0.94      0.96      0.95        71\n",
            "           M       0.93      0.91      0.92        43\n",
            "\n",
            "    accuracy                           0.94       114\n",
            "   macro avg       0.94      0.93      0.93       114\n",
            "weighted avg       0.94      0.94      0.94       114\n",
            "\n"
          ]
        }
      ],
      "source": [
        "from sklearn.datasets import load_breast_cancer\n",
        "from sklearn.model_selection import train_test_split\n",
        "from sklearn.preprocessing import StandardScaler\n",
        "from sklearn.neighbors import KNeighborsClassifier\n",
        "from sklearn.ensemble import RandomForestClassifier\n",
        "from sklearn.linear_model import LogisticRegression\n",
        "from sklearn.tree import DecisionTreeClassifier\n",
        "from sklearn.metrics import accuracy_score, classification_report\n",
        "\n",
        "# Load breast cancer dataset\n",
        "import pandas as pd\n",
        "your_data = pd.read_csv('https://firebasestorage.googleapis.com/v0/b/notes-5bb98.appspot.com/o/breast-cancer.csv?alt=media&token=b52bcfb1-fcb4-486f-bfea-d81d213ca4e9')\n",
        "your_data = your_data.dropna()\n",
        "X = your_data.drop(['radius_mean', 'texture_mean', 'diagnosis'], axis=1)\n",
        "y = your_data['diagnosis']\n",
        "\n",
        "# Split the data into training and testing sets\n",
        "X_train, X_test, y_train, y_test = train_test_split(X, y, test_size=0.2, random_state=42)\n",
        "\n",
        "# Standardize features using StandardScaler\n",
        "scaler = StandardScaler()\n",
        "X_train_scaled = scaler.fit_transform(X_train)\n",
        "X_test_scaled = scaler.transform(X_test)\n",
        "\n",
        "# 1. K-Nearest Neighbors (KNN)\n",
        "knn_model = KNeighborsClassifier(n_neighbors=5)\n",
        "knn_model.fit(X_train_scaled, y_train)\n",
        "knn_predictions = knn_model.predict(X_test_scaled)\n",
        "knn_accuracy = accuracy_score(y_test, knn_predictions)\n",
        "\n",
        "# 2. Random Forest Classifier\n",
        "rf_model = RandomForestClassifier(n_estimators=100, random_state=42)\n",
        "rf_model.fit(X_train_scaled, y_train)\n",
        "rf_predictions = rf_model.predict(X_test_scaled)\n",
        "rf_accuracy = accuracy_score(y_test, rf_predictions)\n",
        "\n",
        "# 3. Logistic Regression\n",
        "logreg_model = LogisticRegression(random_state=42)\n",
        "logreg_model.fit(X_train_scaled, y_train)\n",
        "logreg_predictions = logreg_model.predict(X_test_scaled)\n",
        "logreg_accuracy = accuracy_score(y_test, logreg_predictions)\n",
        "\n",
        "# 4. Decision Tree Classifier\n",
        "dt_model = DecisionTreeClassifier(random_state=42)\n",
        "dt_model.fit(X_train_scaled, y_train)\n",
        "dt_predictions = dt_model.predict(X_test_scaled)\n",
        "dt_accuracy = accuracy_score(y_test, dt_predictions)\n",
        "\n",
        "# Display results\n",
        "print(\"K-Nearest Neighbors Accuracy:\", knn_accuracy)\n",
        "print(\"Random Forest Accuracy:\", rf_accuracy)\n",
        "print(\"Logistic Regression Accuracy:\", logreg_accuracy)\n",
        "print(\"Decision Tree Accuracy:\", dt_accuracy)\n",
        "\n",
        "# Optionally, print more detailed classification reports\n",
        "print(\"\\nClassification Report - K-Nearest Neighbors:\\n\", classification_report(y_test, knn_predictions))\n",
        "print(\"Classification Report - Random Forest:\\n\", classification_report(y_test, rf_predictions))\n",
        "print(\"Classification Report - Logistic Regression:\\n\", classification_report(y_test, logreg_predictions))\n",
        "print(\"Classification Report - Decision Tree:\\n\", classification_report(y_test, dt_predictions))"
      ]
    }
  ]
}
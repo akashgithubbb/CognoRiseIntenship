{
  "nbformat": 4,
  "nbformat_minor": 0,
  "metadata": {
    "colab": {
      "provenance": [],
      "authorship_tag": "ABX9TyOIZ8GC70+98BNqBqflmfwz",
      "include_colab_link": true
    },
    "kernelspec": {
      "name": "python3",
      "display_name": "Python 3"
    },
    "language_info": {
      "name": "python"
    }
  },
  "cells": [
    {
      "cell_type": "markdown",
      "metadata": {
        "id": "view-in-github",
        "colab_type": "text"
      },
      "source": [
        "<a href=\"https://colab.research.google.com/github/akashgithubbb/CognoRiseIntenship/blob/main/Email_Spam.ipynb\" target=\"_parent\"><img src=\"https://colab.research.google.com/assets/colab-badge.svg\" alt=\"Open In Colab\"/></a>"
      ]
    },
    {
      "cell_type": "code",
      "execution_count": 3,
      "metadata": {
        "colab": {
          "base_uri": "https://localhost:8080/"
        },
        "id": "RWCEPOgkyaj4",
        "outputId": "6756bd9f-9231-4bd2-85a4-b994949566ed"
      },
      "outputs": [
        {
          "output_type": "stream",
          "name": "stdout",
          "text": [
            "Logistic Regression Accuracy: 0.9865470852017937\n",
            "Random Forest Accuracy: 0.9802690582959641\n",
            "AdaBoost Accuracy: 0.9704035874439462\n",
            "KNN Accuracy: 0.9264573991031391\n",
            "\n",
            "Classification Report - Logistic Regression:\n",
            "               precision    recall  f1-score   support\n",
            "\n",
            "         ham       0.98      1.00      0.99       966\n",
            "        spam       1.00      0.90      0.95       149\n",
            "\n",
            "    accuracy                           0.99      1115\n",
            "   macro avg       0.99      0.95      0.97      1115\n",
            "weighted avg       0.99      0.99      0.99      1115\n",
            "\n",
            "Classification Report - Random Forest:\n",
            "               precision    recall  f1-score   support\n",
            "\n",
            "         ham       0.98      1.00      0.99       966\n",
            "        spam       1.00      0.85      0.92       149\n",
            "\n",
            "    accuracy                           0.98      1115\n",
            "   macro avg       0.99      0.93      0.95      1115\n",
            "weighted avg       0.98      0.98      0.98      1115\n",
            "\n",
            "Classification Report - AdaBoost:\n",
            "               precision    recall  f1-score   support\n",
            "\n",
            "         ham       0.98      0.99      0.98       966\n",
            "        spam       0.93      0.84      0.88       149\n",
            "\n",
            "    accuracy                           0.97      1115\n",
            "   macro avg       0.95      0.91      0.93      1115\n",
            "weighted avg       0.97      0.97      0.97      1115\n",
            "\n",
            "Classification Report - KNN:\n",
            "               precision    recall  f1-score   support\n",
            "\n",
            "         ham       0.92      1.00      0.96       966\n",
            "        spam       1.00      0.45      0.62       149\n",
            "\n",
            "    accuracy                           0.93      1115\n",
            "   macro avg       0.96      0.72      0.79      1115\n",
            "weighted avg       0.93      0.93      0.91      1115\n",
            "\n"
          ]
        }
      ],
      "source": [
        "# Import necessary libraries\n",
        "from sklearn.model_selection import train_test_split\n",
        "from sklearn.feature_extraction.text import CountVectorizer\n",
        "from sklearn.preprocessing import StandardScaler\n",
        "from sklearn.linear_model import LogisticRegression\n",
        "from sklearn.ensemble import RandomForestClassifier, AdaBoostClassifier\n",
        "from sklearn.neighbors import KNeighborsClassifier\n",
        "from sklearn.metrics import accuracy_score, classification_report\n",
        "import pandas as pd\n",
        "\n",
        "# Load the data\n",
        "your_data = pd.read_csv('spam.csv')\n",
        "\n",
        "# Assuming 'Category' is the target variable (class label)\n",
        "X = your_data['Message'].values\n",
        "y = your_data['Category'].values\n",
        "\n",
        "# Split the data into training and testing sets\n",
        "X_train, X_test, y_train, y_test = train_test_split(X, y, test_size=0.2, random_state=42)\n",
        "\n",
        "# Use CountVectorizer to convert text data to numerical features\n",
        "vectorizer = CountVectorizer()\n",
        "X_train_vectorized = vectorizer.fit_transform(X_train)\n",
        "X_test_vectorized = vectorizer.transform(X_test)\n",
        "\n",
        "# Standardization is not needed for CountVectorizer output\n",
        "\n",
        "# 1. Logistic Regression\n",
        "logreg_model = LogisticRegression(random_state=42)\n",
        "logreg_model.fit(X_train_vectorized, y_train)\n",
        "logreg_predictions = logreg_model.predict(X_test_vectorized)\n",
        "logreg_accuracy = accuracy_score(y_test, logreg_predictions)\n",
        "\n",
        "# 2. Random Forest Classifier\n",
        "rf_model = RandomForestClassifier(n_estimators=100, random_state=42)\n",
        "rf_model.fit(X_train_vectorized, y_train)\n",
        "rf_predictions = rf_model.predict(X_test_vectorized)\n",
        "rf_accuracy = accuracy_score(y_test, rf_predictions)\n",
        "\n",
        "# 3. AdaBoosting Classifier\n",
        "adaboost_model = AdaBoostClassifier(n_estimators=50, random_state=42)\n",
        "adaboost_model.fit(X_train_vectorized, y_train)\n",
        "adaboost_predictions = adaboost_model.predict(X_test_vectorized)\n",
        "adaboost_accuracy = accuracy_score(y_test, adaboost_predictions)\n",
        "\n",
        "# 4. k-Nearest Neighbors (KNN)\n",
        "knn_model = KNeighborsClassifier(n_neighbors=5)\n",
        "knn_model.fit(X_train_vectorized, y_train)\n",
        "knn_predictions = knn_model.predict(X_test_vectorized)\n",
        "knn_accuracy = accuracy_score(y_test, knn_predictions)\n",
        "\n",
        "# Display results\n",
        "print(\"Logistic Regression Accuracy:\", logreg_accuracy)\n",
        "print(\"Random Forest Accuracy:\", rf_accuracy)\n",
        "print(\"AdaBoost Accuracy:\", adaboost_accuracy)\n",
        "print(\"KNN Accuracy:\", knn_accuracy)\n",
        "\n",
        "# Optionally, print more detailed classification reports\n",
        "print(\"\\nClassification Report - Logistic Regression:\\n\", classification_report(y_test, logreg_predictions))\n",
        "print(\"Classification Report - Random Forest:\\n\", classification_report(y_test, rf_predictions))\n",
        "print(\"Classification Report - AdaBoost:\\n\", classification_report(y_test, adaboost_predictions))\n",
        "print(\"Classification Report - KNN:\\n\", classification_report(y_test, knn_predictions))"
      ]
    }
  ]
}